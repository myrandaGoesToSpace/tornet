{
 "cells": [
  {
   "cell_type": "markdown",
   "metadata": {},
   "source": [
    "# TORNET: Loading and Saving Data\n",
    "\n",
    "This notebook loads TORNET data from Zenodo, converts the data to a PyTorch/TORNET dataloader class, then saves the data to a pickle file for later re-use. The purpose of this notebook is to download/generate the data one time. Any later notebooks can then access the data by unpickling the .pt files in PyTorch."
   ]
  },
  {
   "cell_type": "markdown",
   "metadata": {},
   "source": [
    "The following datasets are available. Each contains a zip file with the folders train and test. The 2013 zip file also contains catalog.csv, which is required for initial data loading.\n",
    "\n",
    "- Tornet 2013 (3 GB) and catalog: https://zenodo.org/doi/10.5281/zenodo.10558658\n",
    "\n",
    "- Tornet 2014 (15 GB): https://zenodo.org/doi/10.5281/zenodo.10558838\n",
    "\n",
    "- Tornet 2015 (17 GB): https://zenodo.org/doi/10.5281/zenodo.10558853\n",
    "\n",
    "- Tornet 2016 (16 GB): https://zenodo.org/doi/10.5281/zenodo.10565458\n",
    "\n",
    "- Tornet 2017 (15 GB): https://zenodo.org/doi/10.5281/zenodo.10565489\n",
    "\n",
    "- Tornet 2018 (12 GB): https://zenodo.org/doi/10.5281/zenodo.10565514\n",
    "\n",
    "- Tornet 2019 (18 GB): https://zenodo.org/doi/10.5281/zenodo.10565535\n",
    "\n",
    "- Tornet 2020 (17 GB): https://zenodo.org/doi/10.5281/zenodo.10565581\n",
    "\n",
    "- Tornet 2021 (18 GB): https://zenodo.org/doi/10.5281/zenodo.10565670\n",
    "\n",
    "- Tornet 2022 (19 GB): https://zenodo.org/doi/10.5281/zenodo.10565691"
   ]
  },
  {
   "cell_type": "code",
   "execution_count": 3,
   "metadata": {},
   "outputs": [],
   "source": [
    "import subprocess\n",
    "import os\n",
    "\n",
    "def fetch_data(years, catalog = True, unzip = True):\n",
    "    available_years = [\"2013\", \"2014\",\" 2015\", \"2016\",\" 2017\", \"2018\", \"2019\",\" 2020\", \"2021\", \"2022\"]\n",
    "    dois = [\"10.5281/zenodo.10558658\", \"10.5281/zenodo.10558838\",\"10.5281/zenodo.10558853\", \"10.5281/zenodo.10565458\", \"10.5281/zenodo.10565489\",\"10.5281/zenodo.10565514\", \"10.5281/zenodo.10565535\",\"10.5281/zenodo.10565581\", \"10.5281/zenodo.10565670\",\"10.5281/zenodo.10565691\"]\n",
    "\n",
    "\n",
    "    selected_dois = [str(y) for y in years if str(y) in available_years]\n",
    "\n",
    "    for d in selected_dois:\n",
    "        if catalog and \"2013\" not in selected_dois:\n",
    "            subprocess.run([\"zenodo_get\", dois[0]])\n",
    "\n",
    "        idx = available_years.index(d)\n",
    "        subprocess.run([\"zenodo_get\", dois[idx]])\n",
    "\n",
    "    print(\"Selected dois received: \", selected_dois)\n",
    "\n",
    "    if unzip:\n",
    "        for fo in os.listdir():\n",
    "            if str(fo).endswith(\".gz\"):\n",
    "                print(\"Unzipping: \", fo)\n",
    "                command = \"tar -xvf \" + str(fo)\n",
    "                subprocess.run(command)\n",
    "\n",
    "        print(\"Data unzipped: \", selected_dois)\n",
    "\n",
    "        "
   ]
  },
  {
   "cell_type": "code",
   "execution_count": null,
   "metadata": {},
   "outputs": [],
   "source": [
    "fetch_data([2013])"
   ]
  }
 ],
 "metadata": {
  "kernelspec": {
   "display_name": "Python 3",
   "language": "python",
   "name": "python3"
  },
  "language_info": {
   "codemirror_mode": {
    "name": "ipython",
    "version": 3
   },
   "file_extension": ".py",
   "mimetype": "text/x-python",
   "name": "python",
   "nbconvert_exporter": "python",
   "pygments_lexer": "ipython3",
   "version": "3.11.3"
  }
 },
 "nbformat": 4,
 "nbformat_minor": 2
}
